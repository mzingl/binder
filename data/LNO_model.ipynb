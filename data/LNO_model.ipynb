{
 "cells": [
  {
   "cell_type": "markdown",
   "metadata": {},
   "source": [
    "### LNO tight binding model - interactive analysis"
   ]
  },
  {
   "cell_type": "markdown",
   "metadata": {},
   "source": [
    "Execute the following cell by (1) clicking into the cell and (2) pressing shift+enter.\n",
    "(if you see warnings execute the cell twice)\n",
    "\n",
    "Use the slider the drop-down menu to select the model and use the slider to tune parameters."
   ]
  },
  {
   "cell_type": "code",
   "execution_count": 4,
   "metadata": {},
   "outputs": [
    {
     "data": {
      "application/vnd.jupyter.widget-view+json": {
       "model_id": "3f6e9440fbf04ef28bfd944f14625017",
       "version_major": 2,
       "version_minor": 0
      },
      "text/plain": [
       "aW50ZXJhY3RpdmUoY2hpbGRyZW49KERyb3Bkb3duKGRlc2NyaXB0aW9uPXUnbW9kZWwnLCBpbmRleD0zLCBvcHRpb25zPXsnTE5PIC0yLjMlJzogPHRyaXFzX3RwcmYudGlnaHRfYmluZGluZy7igKY=\n"
      ]
     },
     "metadata": {},
     "output_type": "display_data"
    },
    {
     "name": "stdout",
     "output_type": "stream",
     "text": [
      "\n"
     ]
    }
   ],
   "source": [
    "from visualization_function import *\n",
    "from ipywidgets import interact, interactive, fixed, interact_manual\n",
    "import ipywidgets as widgets\n",
    "from IPython.display import display\n",
    "%matplotlib inline\n",
    "import matplotlib\n",
    "matplotlib.rcParams['mathtext.default'] = 'sf'\n",
    "matplotlib.rcParams['mathtext.rm'] = 'Liberation Sans'\n",
    "matplotlib.rcParams['mathtext.sf'] = 'Liberation Sans'\n",
    "matplotlib.rcParams['mathtext.bf'] = 'Liberation Sans'\n",
    "matplotlib.rcParams['mathtext.cal'] = 'Liberation Sans'\n",
    "matplotlib.rcParams['mathtext.fontset'] = 'custom'\n",
    "matplotlib.rcParams.update({'font.size':22})\n",
    "matplotlib.rcParams['figure.figsize'] = (20,7)\n",
    "\n",
    "y=interactive(func, model = TBL, crystal_field = (-0.5,0.5,0.05),\n",
    "              hopping_x = (0,2.0,0.05), hopping_z = (0,2.0,0.05),\n",
    "              kz_plot1 = (-1.0,1.0,0.05), kz_plot2 = (-1.0,1.0,0.05), Nk_path = (10,100,10), Nk_FS=(5,55,5))\n",
    "display(y)"
   ]
  },
  {
   "cell_type": "code",
   "execution_count": null,
   "metadata": {},
   "outputs": [],
   "source": []
  }
 ],
 "metadata": {
  "kernelspec": {
   "display_name": "Python 2",
   "language": "python",
   "name": "python2"
  },
  "language_info": {
   "codemirror_mode": {
    "name": "ipython",
    "version": 2
   },
   "file_extension": ".py",
   "mimetype": "text/x-python",
   "name": "python",
   "nbconvert_exporter": "python",
   "pygments_lexer": "ipython2",
   "version": "2.7.15rc1"
  }
 },
 "nbformat": 4,
 "nbformat_minor": 2
}

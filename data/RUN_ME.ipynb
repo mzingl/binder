{
 "cells": [
  {
   "cell_type": "markdown",
   "metadata": {},
   "source": [
    "### LaNiO3 tight binding model - interactive analysis"
   ]
  },
  {
   "cell_type": "markdown",
   "metadata": {},
   "source": [
    "This applet visualizes the band structure and the Fermi surface of the Wannier model\n",
    "constructed for the Ni-$z^2$ and Ni-$x^2-y^2$ orbitals of unstrained LaNiO$_3$,\n",
    "assuming a tetragonal crystal structure without any octahedral rotations.\n",
    "\n",
    "#### To run this applet click into the cell below and press shift+enter.\n",
    "\n",
    "Use the first two sliders on the left to add crystal fields ($\\Delta$) to the Ni orbitals. \n",
    "With the thrid and fourth sliders on the left you can scale the in-plane (t$_{ab}$)\n",
    "and out-of-plane (t$_c$) hopping amplitudes by a multiplicative factor. Here, $t_{ab}$ refers\n",
    "to pure in-plane hopping, whereas t$_c$ scales all hoppings which have an out-of-plane\n",
    "contribution, i.e. all hoppings which are not purely in-plane.\n",
    "\n",
    "On the right, you can select the out-of-plane momentum (k$_z$) from 0 to 1 and tune\n",
    "the resolution of the band structure (N$_k$) and the Fermi surface (N$_{FS}$).\n",
    "Note that updating the results at higher resolutions takes substantially more time.\n",
    "The small circle in the top right (next to 'Pyhton 2') indicates the current status.\n",
    "Empty means idling and full means calculating.\n",
    "\n",
    "As a reference, the crystal field changes of the Wannier model for a tetragonal structures at -2.3% strain are $\\Delta \\epsilon_{z^2}=-0.18$ and $\\Delta \\epsilon_{z^2}=0.20$, with respect to the unstrained ones.\n",
    "The changes for the tetragonal structure at +2.4% strain are $\\Delta \\epsilon_{z^2}=0.13$ and $\\Delta \\epsilon_{z^2}=-0.19$.\n",
    "\n",
    "To roughly simulate the Fermi surface of the distorted structures, the hoppings\n",
    "need to be scaled by factors of roughly $0.8$ and $1.2$. Try it yourself in which way the\n",
    "hoppings should be scaled!"
   ]
  },
  {
   "cell_type": "code",
   "execution_count": null,
   "metadata": {},
   "outputs": [],
   "source": [
    "%matplotlib inline\n",
    "import visualization_function\n",
    "display(visualization_function.ui, visualization_function.out)"
   ]
  },
  {
   "cell_type": "code",
   "execution_count": null,
   "metadata": {},
   "outputs": [],
   "source": []
  }
 ],
 "metadata": {
  "kernelspec": {
   "display_name": "Python 2",
   "language": "python",
   "name": "python2"
  },
  "language_info": {
   "codemirror_mode": {
    "name": "ipython",
    "version": 2
   },
   "file_extension": ".py",
   "mimetype": "text/x-python",
   "name": "python",
   "nbconvert_exporter": "python",
   "pygments_lexer": "ipython2",
   "version": "2.7.17"
  }
 },
 "nbformat": 4,
 "nbformat_minor": 2
}
